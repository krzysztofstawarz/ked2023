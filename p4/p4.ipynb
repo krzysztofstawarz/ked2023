{
 "cells": [
  {
   "cell_type": "markdown",
   "id": "8ab2728c-0fce-4b73-b098-e3f0664c0028",
   "metadata": {},
   "source": [
    "# __Eksploracja danych__\n",
    "## __Projekt 4: Asocjacyjne reguły grupowania__  \n",
    "## __Karolina Węglowska, Krzysztof Stawarz__  "
   ]
  },
  {
   "cell_type": "code",
   "execution_count": 1,
   "id": "7bb48768-e64e-4db1-be0a-e66904c7b656",
   "metadata": {},
   "outputs": [
    {
     "name": "stdout",
     "output_type": "stream",
     "text": [
      "     2     8    10    20    27    29    31    79    80    99   NaN   NaN\n",
      "     5    19    30    43    44    64    70    73    79    87   NaN   NaN\n",
      "     0     6    18    39    55    70    71    79    89    98   NaN   NaN\n",
      "     1     2    29    32    33    51    56    72    85    95   NaN   NaN\n",
      "    16    17    24    26    45    55    70    71    79   NaN   NaN   NaN\n",
      "     6    14    20    25    33    40    51    54    72    88   NaN   NaN\n",
      "     9    30    32    43    46    78    86    93    99   NaN   NaN   NaN\n",
      "     4     5    41    55    56    60    78    79    81    88   NaN   NaN\n",
      "\n"
     ]
    }
   ],
   "source": [
    "clc; clear; close all;\n",
    "data = readmatrix('ed-p04.txt');\n",
    "head(data)"
   ]
  },
  {
   "cell_type": "code",
   "execution_count": 2,
   "id": "309f72c3-f91e-4ada-a990-1b85dc40e010",
   "metadata": {},
   "outputs": [
    {
     "name": "stdout",
     "output_type": "stream",
     "text": [
      "     0     0     1     0     0     0     0     0     1     0     1\n",
      "     0     0     0     0     0     1     0     0     0     0     0\n",
      "     1     0     0     0     0     0     1     0     0     0     0\n",
      "     0     1     1     0     0     0     0     0     0     0     0\n",
      "     0     0     0     0     0     0     0     0     0     0     0\n",
      "     0     0     0     0     0     0     1     0     0     0     0\n",
      "     0     0     0     0     0     0     0     0     0     1     0\n",
      "     0     0     0     0     1     1     0     0     0     0     0\n",
      "\n"
     ]
    }
   ],
   "source": [
    "numbers = rmmissing(unique(data));\n",
    "\n",
    "transactions = zeros(size(data, 1), numel(numbers));\n",
    "for x=1:size(data, 1)\n",
    "    \n",
    "    row = rmmissing(data(x, :));\n",
    "    \n",
    "    for y=1:size(row, 2)\n",
    "        \n",
    "        val = row(y);\n",
    "        \n",
    "        transactions(x, val+1) = transactions(x, val+1) + 1;\n",
    "    end\n",
    "    \n",
    "end\n",
    " head(transactions(:, 1:11))"
   ]
  },
  {
   "cell_type": "code",
   "execution_count": 3,
   "id": "ce4a3d76-33ac-46be-9b64-6ae147dd0c8a",
   "metadata": {
    "tags": []
   },
   "outputs": [
    {
     "name": "stdout",
     "output_type": "stream",
     "text": [
      "\n",
      "--------------ITERATION 1--------------\n",
      "✅ Creating itemset : 0.01s\n",
      "✅ Calculating support, creating frequentset : 0.00s\n",
      "\n",
      "--------------ITERATION 2--------------\n",
      "✅ Creating itemset : 0.10s\n",
      "✅ Calculating support, creating frequentset : 0.05s\n",
      "\n",
      "--------------ITERATION 3--------------\n",
      "✅ Creating itemset : 0.12s\n",
      "✅ Calculating support, creating frequentset : 0.98s\n",
      "\n",
      "--------------ITERATION 4--------------\n",
      "✅ Creating itemset : 0.18s\n",
      "✅ Calculating support, creating frequentset : 3.19s\n",
      "\n",
      "break3 - frequentset empty after calculating supports\n",
      "\n",
      "Overal algorithm time (without pruning) for min_supp = 0.005 : 1.28s\n",
      "\n",
      "valid_subsets =\n",
      "\n",
      "     3    64    99\n",
      "    13    51    62\n",
      "    15    22    51\n",
      "    16    39    98\n",
      "    20    49    75\n",
      "    22    51    76\n",
      "    25    90    96\n",
      "    32    45    51\n",
      "    33    41    58\n",
      "    45    71    82\n",
      "    52    58    71\n",
      "    59    63    73\n",
      "\n",
      "\n",
      "valid_supports =\n",
      "\n",
      "    0.0050\n",
      "    0.0050\n",
      "    0.0050\n",
      "    0.0050\n",
      "    0.0050\n",
      "    0.0050\n",
      "    0.0050\n",
      "    0.0050\n",
      "    0.0050\n",
      "    0.0050\n",
      "    0.0050\n",
      "    0.0050\n",
      "\n"
     ]
    },
    {
     "data": {
      "image/png": "[encoded data removed]",
      "text/plain": [
       "<IPython.core.display.Image object>"
      ]
     },
     "metadata": {},
     "output_type": "display_data"
    }
   ],
   "source": [
    "%  fajne thresholdy:\n",
    "% min_supp = 0.0149;\n",
    "min_supp = 0.005;\n",
    "% min_supp = 0.003;\n",
    "% min_supp = 0.002;\n",
    "\n",
    "% min_supp = 2/5;\n",
    "\n",
    "iteration = 0;\n",
    "\n",
    "overall_time = 0;\n",
    "\n",
    "while 1\n",
    "    \n",
    "    iteration = iteration + 1;\n",
    "    disp(sprintf(\"\\n--------------ITERATION %d--------------\", iteration));\n",
    "    \n",
    "    %  creating new subsets\n",
    "    tic\n",
    "    if iteration==1\n",
    "        c = rmmissing(unique(data));\n",
    "    else\n",
    "        tic\n",
    "        possible_subsets=[];\n",
    "        for i=1:size(data,1)\n",
    "\n",
    "            row = rmmissing(data(i, :));\n",
    "\n",
    "            sets = nchoosek(row, iteration);\n",
    "\n",
    "            possible_subsets = [possible_subsets; sets];\n",
    "        end\n",
    "\n",
    "        c = unique(sort(possible_subsets, 2), 'rows');\n",
    "        %c = nchoosek(unique(f), iteration);\n",
    "    end\n",
    "    \n",
    "    time_creating_itemset = toc;\n",
    "    disp(sprintf(\"✅ Creating itemset : %.2fs\", time_creating_itemset));\n",
    "    \n",
    "    if isempty(c)\n",
    "        disp(sprintf(\"\\nbreak1 - new itemset empty after trying to create new with %d items\"), iteration);\n",
    "        valid_subsets = f;\n",
    "        break;\n",
    "    end\n",
    "    \n",
    "    \n",
    "    % checking the supports and removing subsets below threshold\n",
    "    tic;\n",
    "    temp2 = [];\n",
    "    for i=1:size(c, 1)\n",
    "        c_row = c(i, :);\n",
    "        support = sum(all(transactions(:,c_row+1), 2));\n",
    "        temp2 = [temp2, support];\n",
    "    end\n",
    "    temp2 = temp2 / size(data, 1);\n",
    "    temp1 = c(temp2>=min_supp, :);\n",
    "    temp3 = temp2(temp2>=min_supp);\n",
    "\n",
    "\n",
    "\n",
    "    \n",
    "    time_calculating_support = toc;\n",
    "    disp(sprintf(\"✅ Calculating support, creating frequentset : %.2fs\", time_calculating_support));\n",
    "    \n",
    "    if isempty(temp1)\n",
    "\n",
    "        valid_subsets = f;\n",
    "        disp(sprintf(\"\\nbreak3 - frequentset empty after calculating supports\"));\n",
    "        break;\n",
    "    end\n",
    "    \n",
    "    f = temp1;\n",
    "    supports = temp2;\n",
    "    valid_supports = temp3';\n",
    "    \n",
    "    overall_time = overall_time + time_creating_itemset + time_calculating_support;\n",
    "end\n",
    "\n",
    "disp(sprintf(\"\\nOveral algorithm time (without pruning) for min_supp = %.3f : %.2fs\", min_supp, overall_time));\n",
    "\n",
    "valid_subsets\n",
    "valid_supports\n",
    "\n",
    "% Create a histogram with logarithmic y-axis scale\n",
    "edges = linspace(min(supports),max(supports));\n",
    "counts = histcounts(supports,edges);\n",
    "bar(edges(1:end-1),counts, 10);\n",
    "set(gca,'YScale','log');\n",
    "xlabel('Support');\n",
    "ylabel('Counts (log scale)');\n",
    "xticks(0:0.001:max(supports))"
   ]
  },
  {
   "cell_type": "code",
   "execution_count": 4,
   "id": "a56e9089-328d-4722-9eaf-2d7f575d6df7",
   "metadata": {
    "tags": []
   },
   "outputs": [
    {
     "name": "stdout",
     "output_type": "stream",
     "text": [
      "\n",
      "------ Rule: 1 ------\n",
      "   3  64 ===> 99\n",
      "\n",
      "------ Rule: 19 ------\n",
      "   16  39 ===> 98\n",
      "\n",
      "------ Rule: 27 ------\n",
      "   49  75 ===> 20\n",
      "\n",
      "------ Rule: 45 ------\n",
      "   45  51 ===> 32\n",
      "\n",
      "------ Rule: 67 ------\n",
      "   59  63 ===> 73\n"
     ]
    }
   ],
   "source": [
    "min_conf = 0.7;\n",
    "\n",
    "confidences = [];\n",
    "\n",
    "rule = 0;\n",
    "\n",
    "for x=1:size(valid_subsets, 1)\n",
    "    \n",
    "    i = valid_subsets(x, :);\n",
    "    k = size(i, 2);\n",
    "    left_supp = valid_supports(x);\n",
    "\n",
    "    \n",
    "    while k > 1\n",
    "        k_el_sets = nchoosek(i, k-1);\n",
    "        \n",
    "        for y=1:size(k_el_sets, 1)\n",
    "            rule = rule + 1;\n",
    "            \n",
    "            s = k_el_sets(y, :);\n",
    "            right_supp = sum(all(transactions(:,s+1), 2))/size(data,1);\n",
    "            \n",
    "            confidence = left_supp / right_supp;\n",
    "            confidences = [confidences, confidence];\n",
    "\n",
    "            if confidence >= min_conf\n",
    "                i_minus_s = setdiff(i, s);\n",
    "                \n",
    "                disp(sprintf(\"\\n------ Rule: %d ------\", rule));\n",
    "                disp(\"   \" + num2str(s) + \" ===> \" + num2str(i_minus_s));\n",
    "            end\n",
    "            \n",
    "        end\n",
    "        \n",
    "        k = k-1;\n",
    "        \n",
    "    end\n",
    "    \n",
    "end"
   ]
  },
  {
   "cell_type": "markdown",
   "id": "33b51dc1-bad7-42ab-81bf-2185c117bc19",
   "metadata": {},
   "source": [
    "*Karolina Węglowska, Krzysztof Stawarz  \n",
    "Kraków, 4.05.2023*"
   ]
  }
 ],
 "metadata": {
  "kernelspec": {
   "display_name": "Matlab",
   "language": "matlab",
   "name": "matlab"
  },
  "language_info": {
   "codemirror_mode": "octave",
   "file_extension": ".m",
   "help_links": [
    {
     "text": "MetaKernel Magics",
     "url": "https://metakernel.readthedocs.io/en/latest/source/README.html"
    }
   ],
   "mimetype": "text/x-octave",
   "name": "matlab",
   "version": "0.17.1"
  }
 },
 "nbformat": 4,
 "nbformat_minor": 5
}

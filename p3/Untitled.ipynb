{
 "cells": [
  {
   "cell_type": "code",
   "execution_count": 1,
   "id": "297f1bd4-825d-4f28-b6d2-56108ebdd88b",
   "metadata": {},
   "outputs": [],
   "source": [
    "Patterns = cell2mat(struct2cell(load('ed-p03.mat', 'Patterns')));"
   ]
  },
  {
   "cell_type": "code",
   "execution_count": 2,
   "id": "e9cc1d05-db6a-459c-a6e6-ffc76a68e1b0",
   "metadata": {},
   "outputs": [],
   "source": [
    "Patterns = (Patterns - mean(Patterns)) ./ std(Patterns);"
   ]
  },
  {
   "cell_type": "code",
   "execution_count": 3,
   "id": "f1dac125-2a35-4180-afa3-9f62f7bf08de",
   "metadata": {},
   "outputs": [],
   "source": [
    "cov_matrix = cov(Patterns);"
   ]
  },
  {
   "cell_type": "code",
   "execution_count": 4,
   "id": "a22db52b-18e1-4026-a491-324a95325bf9",
   "metadata": {},
   "outputs": [
    {
     "name": "stdout",
     "output_type": "stream",
     "text": [
      "\n",
      "cov_matrix =\n",
      "\n",
      "    1.0000   -0.2393    0.3917   -0.3069\n",
      "   -0.2393    1.0000   -0.1251    0.1483\n",
      "    0.3917   -0.1251    1.0000   -0.7320\n",
      "   -0.3069    0.1483   -0.7320    1.0000\n",
      "\n"
     ]
    }
   ],
   "source": [
    "cov_matrix"
   ]
  },
  {
   "cell_type": "code",
   "execution_count": 5,
   "id": "4b7e8c2d-4fce-4753-af89-7a37a1ee5c86",
   "metadata": {},
   "outputs": [],
   "source": [
    "[eigenvectors, eigenvalues] = eig(cov_matrix);"
   ]
  },
  {
   "cell_type": "code",
   "execution_count": 6,
   "id": "9f4eb3dc-506e-47e2-9b9d-59dd950b9171",
   "metadata": {},
   "outputs": [
    {
     "name": "stdout",
     "output_type": "stream",
     "text": [
      "\n",
      "eigenvectors =\n",
      "\n",
      "   -0.1191    0.8286    0.3004   -0.4572\n",
      "   -0.0518    0.4456   -0.8554    0.2591\n",
      "    0.7242   -0.1261   -0.2945   -0.6107\n",
      "    0.6773    0.3146    0.3023    0.5924\n",
      "\n"
     ]
    }
   ],
   "source": [
    "eigenvectors"
   ]
  },
  {
   "cell_type": "code",
   "execution_count": 7,
   "id": "a8d6e5ec-07eb-4b5b-b8b7-2a76e14e9b36",
   "metadata": {},
   "outputs": [
    {
     "name": "stdout",
     "output_type": "stream",
     "text": [
      "\n",
      "eigenvalues =\n",
      "\n",
      "    0.2599         0         0         0\n",
      "         0    0.6952         0         0\n",
      "         0         0    0.9885         0\n",
      "         0         0         0    2.0564\n",
      "\n"
     ]
    }
   ],
   "source": [
    "eigenvalues"
   ]
  },
  {
   "cell_type": "code",
   "execution_count": 8,
   "id": "dd535feb-e867-43e9-ac63-9b883e475384",
   "metadata": {},
   "outputs": [],
   "source": [
    "eigenvalues = diag(eigenvalues);\n",
    "[~, order] = sort(eigenvalues, 'descend');\n",
    "eigenvectors_sorted = eigenvectors(:, order);"
   ]
  },
  {
   "cell_type": "code",
   "execution_count": 9,
   "id": "7a9684c2-ad12-43e6-a601-0fd0d4283ba0",
   "metadata": {},
   "outputs": [
    {
     "name": "stdout",
     "output_type": "stream",
     "text": [
      "\n",
      "eigenvectors_sorted =\n",
      "\n",
      "   -0.4572    0.3004    0.8286   -0.1191\n",
      "    0.2591   -0.8554    0.4456   -0.0518\n",
      "   -0.6107   -0.2945   -0.1261    0.7242\n",
      "    0.5924    0.3023    0.3146    0.6773\n",
      "\n"
     ]
    }
   ],
   "source": [
    "eigenvectors_sorted"
   ]
  },
  {
   "cell_type": "code",
   "execution_count": 10,
   "id": "36dc5358-275c-4ed1-b3f5-cade0ce95295",
   "metadata": {},
   "outputs": [],
   "source": [
    "pc1 = eigenvectors_sorted(:, 1);\n",
    "pc2 = eigenvectors_sorted(:, 2);\n",
    "PCA = Patterns * [pc1, pc2];"
   ]
  },
  {
   "cell_type": "code",
   "execution_count": 11,
   "id": "2d98f895-2d3c-4f82-a67a-4e2b8fba3d1b",
   "metadata": {},
   "outputs": [
    {
     "data": {
      "image/png": "[encoded data removed]",
      "text/plain": [
       "<IPython.core.display.Image object>"
      ]
     },
     "metadata": {},
     "output_type": "display_data"
    }
   ],
   "source": [
    "scatter(PCA(:,1), PCA(:,2));\n",
    "xlabel('PC1');\n",
    "ylabel('PC2');"
   ]
  },
  {
   "cell_type": "code",
   "execution_count": 15,
   "id": "3995d42a-4f3a-49bd-8f4e-625d0d882d48",
   "metadata": {},
   "outputs": [
    {
     "name": "stdout",
     "output_type": "stream",
     "text": [
      "\n",
      "dane =\n",
      "\n",
      "    0.4218    0.6557    0.6787    0.6555\n",
      "    0.9157    0.0357    0.7577    0.1712\n",
      "    0.7922    0.8491    0.7431    0.7060\n",
      "    0.9595    0.9340    0.3922    0.0318\n",
      "\n"
     ]
    }
   ],
   "source": [
    "dane = rand(4)"
   ]
  },
  {
   "cell_type": "code",
   "execution_count": 16,
   "id": "70d53c1c-c455-44dc-94c6-2ae150c19fed",
   "metadata": {},
   "outputs": [
    {
     "name": "stdout",
     "output_type": "stream",
     "text": [
      "\n",
      "ans =\n",
      "\n",
      "    0.0596   -0.0110   -0.0137   -0.0617\n",
      "   -0.0110    0.1646   -0.0405    0.0324\n",
      "   -0.0137   -0.0405    0.0291    0.0353\n",
      "   -0.0617    0.0324    0.0353    0.1155\n",
      "\n"
     ]
    }
   ],
   "source": [
    "cov(dane)"
   ]
  },
  {
   "cell_type": "code",
   "execution_count": 19,
   "id": "7f6cf0a1-f044-47e8-8792-6d8a59d8e89f",
   "metadata": {},
   "outputs": [
    {
     "name": "stdout",
     "output_type": "stream",
     "text": [
      "\n",
      "dane =\n",
      "\n",
      "   -1.4355    0.0914    0.2097    0.7778\n",
      "    0.5874   -1.4369    0.6726   -0.6472\n",
      "    0.0815    0.5681    0.5870    0.9266\n",
      "    0.7666    0.7773   -1.4693   -1.0572\n",
      "\n"
     ]
    }
   ],
   "source": [
    "dane = (dane-mean(dane))"
   ]
  },
  {
   "cell_type": "code",
   "execution_count": 20,
   "id": "8df35b91-5e79-4e87-8cc9-2dc2d9d5493f",
   "metadata": {},
   "outputs": [
    {
     "name": "stdout",
     "output_type": "stream",
     "text": [
      "\n",
      "ans =\n",
      "\n",
      "    1.0000   -0.1110   -0.3281   -0.7439\n",
      "   -0.1110    1.0000   -0.5853    0.2352\n",
      "   -0.3281   -0.5853    1.0000    0.6084\n",
      "   -0.7439    0.2352    0.6084    1.0000\n",
      "\n"
     ]
    }
   ],
   "source": [
    "cov(dane)"
   ]
  },
  {
   "cell_type": "code",
   "execution_count": null,
   "id": "3ca64e64-4191-4d8d-affd-51a676dd4244",
   "metadata": {},
   "outputs": [],
   "source": []
  }
 ],
 "metadata": {
  "kernelspec": {
   "display_name": "Matlab",
   "language": "matlab",
   "name": "matlab"
  },
  "language_info": {
   "codemirror_mode": "octave",
   "file_extension": ".m",
   "help_links": [
    {
     "text": "MetaKernel Magics",
     "url": "https://metakernel.readthedocs.io/en/latest/source/README.html"
    }
   ],
   "mimetype": "text/x-octave",
   "name": "matlab",
   "version": "0.17.1"
  }
 },
 "nbformat": 4,
 "nbformat_minor": 5
}
